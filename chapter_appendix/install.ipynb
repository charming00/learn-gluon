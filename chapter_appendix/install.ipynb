{
 "cells": [
  {
   "cell_type": "markdown",
   "metadata": {},
   "source": [
    "# 安装和使用\n",
    "\n",
    "## 首次安装\n",
    "\n",
    "每个教程是一个可以编辑和运行的Jupyter notebook。运行这些教程需要`Python`，`Jupyter`，以及最新版`MXNet`。\n",
    "\n",
    "### 通过Conda安装\n",
    "首先根据操作系统下载并安装[Miniconda](https://conda.io/miniconda.html)（[Anaconda](https://docs.continuum.io/anaconda/install/)也可以）。接下来下载所有教程的包（[下载tar.gz格式](https://zh.gluon.ai/gluon_tutorials_zh.tar.gz)或者[下载zip格式](https://zh.gluon.ai/gluon_tutorials_zh.zip)均可）。解压后进入文件夹。\n",
    "\n",
    "例如Linux或者Mac OSX 10.11以上可以使用如下命令"
   ]
  },
  {
   "cell_type": "markdown",
   "metadata": {},
   "source": [
    "```bash\n",
    "mkdir gluon-tutorials && cd gluon-tutorials\n",
    "curl https://zh.gluon.ai/gluon_tutorials_zh.tar.gz -o tutorials.tar.gz\n",
    "tar -xzvf tutorials.tar.gz && rm tutorials.tar.gz\n",
    "```\n"
   ]
  },
  {
   "cell_type": "markdown",
   "metadata": {},
   "source": [
    "Windows用户可以用浏览器下载[zip格式](https://zh.gluon.ai/gluon_tutorials_zh.zip)并解压，在解压目录文件资源管理器的地址栏输入`cmd`进入命令行模式。\n",
    "\n",
    "【可选项】配置下载源来使用国内镜像加速下载:"
   ]
  },
  {
   "cell_type": "markdown",
   "metadata": {},
   "source": [
    "```bash\n",
    "# 优先使用清华conda镜像\n",
    "conda config --prepend channels https://mirrors.tuna.tsinghua.edu.cn/anaconda/pkgs/free/\n",
    "\n",
    "# 也可选用科大conda镜像\n",
    "conda config --prepend channels http://mirrors.ustc.edu.cn/anaconda/pkgs/free/\n",
    "```\n"
   ]
  },
  {
   "cell_type": "markdown",
   "metadata": {},
   "source": [
    "然后安装所需的依赖包并激活环境："
   ]
  },
  {
   "cell_type": "markdown",
   "metadata": {},
   "source": [
    "```bash\n",
    "conda env create -f environment.yml\n",
    "source activate gluon # 注意Windows下不需要 source\n",
    "```\n"
   ]
  },
  {
   "cell_type": "markdown",
   "metadata": {},
   "source": [
    "之后运行下面命令，然后浏览器打开[http://localhost:8888](http://localhost:8888)（通常会自动打开）就可以查看和运行各个教程了。"
   ]
  },
  {
   "cell_type": "markdown",
   "metadata": {},
   "source": [
    "```bash\n",
    "jupyter notebook\n",
    "```\n"
   ]
  },
  {
   "cell_type": "markdown",
   "metadata": {},
   "source": [
    "【可选项】国内用户可使用国内Gluon镜像加速数据集和预训练模型的下载\n",
    "\n",
    "- Linux/OSX用户:\n",
    "\n",
    "  ```bash\n",
    "  MXNET_GLUON_REPO=https://apache-mxnet.s3.cn-north-1.amazonaws.com.cn/ jupyter notebook\n",
    "  ```\n",
    "\n",
    "- Windows用户:\n",
    "\n",
    "  ```bash\n",
    "  set MXNET_GLUON_REPO=https://apache-mxnet.s3.cn-north-1.amazonaws.com.cn/ jupyter notebook\n",
    "  ```\n",
    "\n",
    "### 通过docker安装\n",
    "首先你需要下载并安装[docker](https://docs.docker.com/engine/installation/)。例如Linux下可以"
   ]
  },
  {
   "cell_type": "markdown",
   "metadata": {},
   "source": [
    "```bash\n",
    "wget -qO- https://get.docker.com/ | sh\n",
    "sudo usermod -aG docker\n",
    "# 然后logout一次\n",
    "```\n"
   ]
  },
  {
   "cell_type": "markdown",
   "metadata": {},
   "source": [
    "然后运行下面命令即可"
   ]
  },
  {
   "cell_type": "markdown",
   "metadata": {},
   "source": [
    "```bash\n",
    "docker run -p 8888:8888 muli/gluon-tutorials-zh\n",
    "```\n"
   ]
  },
  {
   "cell_type": "markdown",
   "metadata": {},
   "source": [
    "然后浏览器打开[http://localhost:8888](http://localhost:8888) ，这时通常需要填docker运行时产生的token。\n",
    "## 更新教程\n",
    "\n",
    "目前我们仍然一直在快速更新教程，通常每周都会加入新的章节。同时MXNet的Gluon前端也在快速发展，因此我们推荐大家也做及时的更新。更新包括下载最新的教程，和更新对应的依赖（通常是升级MXNet）。\n",
    "\n",
    "### 用Conda更新\n",
    "\n",
    "先重新下载新的[zip](https://zh.gluon.ai/gluon_tutorials_zh.zip)或者[tar.gz](https://zh.gluon.ai/gluon_tutorials_zh.tar.gz)教程包。解压后，使用下面命令更新环境"
   ]
  },
  {
   "cell_type": "markdown",
   "metadata": {},
   "source": [
    "```bash\n",
    "conda env update -f environment.yml\n",
    "```\n"
   ]
  },
  {
   "cell_type": "markdown",
   "metadata": {},
   "source": [
    "### 用Docker更新\n",
    "\n",
    "直接下载新的docker image就行。"
   ]
  },
  {
   "cell_type": "markdown",
   "metadata": {},
   "source": [
    "```bash\n",
    "docker pull muli/gluon-tutorials-zh\n",
    "```\n"
   ]
  },
  {
   "cell_type": "markdown",
   "metadata": {},
   "source": [
    "### 使用Git\n",
    "\n",
    "如果你熟悉git，那么直接pull并且之后merge冲突"
   ]
  },
  {
   "cell_type": "markdown",
   "metadata": {},
   "source": [
    "```bash\n",
    "git pull https://github.com/mli/gluon-tutorials-zh\n",
    "```\n"
   ]
  },
  {
   "cell_type": "markdown",
   "metadata": {},
   "source": [
    "如果不想merge冲突，那么可以在`pull`前用reset还原到上一个版本（记得保存有价值的本地修改）"
   ]
  },
  {
   "cell_type": "markdown",
   "metadata": {},
   "source": [
    "```bash\n",
    "git reset --hard\n",
    "```\n"
   ]
  },
  {
   "cell_type": "markdown",
   "metadata": {},
   "source": [
    "之后更新环境"
   ]
  },
  {
   "cell_type": "markdown",
   "metadata": {},
   "source": [
    "```bash\n",
    "conda env update -f environment.yml\n",
    "```\n"
   ]
  },
  {
   "cell_type": "markdown",
   "metadata": {},
   "source": [
    "### 使用了MXNet GPU版本\n",
    "\n",
    "这时候conda update可能不会自动升级GPU版本，因为默认是安装了CPU。这时候可以运行了`source activate gluon`后手动更新MXNet。例如如果安装了`mxnet-cu80`了，那么"
   ]
  },
  {
   "cell_type": "markdown",
   "metadata": {},
   "source": [
    "```bash\n",
    "pip install -U --pre mxnet-cu80\n",
    "```\n"
   ]
  },
  {
   "cell_type": "markdown",
   "metadata": {},
   "source": [
    "## 高级选项\n",
    "\n",
    "### 使用GPU\n",
    "\n",
    "默认安装的MXNet只支持CPU。有一些教程需要GPU来运行。假设电脑有N卡而且CUDA7.5或者8.0已经安装了，那么先卸载CPU版本"
   ]
  },
  {
   "cell_type": "markdown",
   "metadata": {},
   "source": [
    "```bash\n",
    "pip uninstall mxnet\n",
    "```\n"
   ]
  },
  {
   "cell_type": "markdown",
   "metadata": {},
   "source": [
    "然后选择安装下面版本之一："
   ]
  },
  {
   "cell_type": "markdown",
   "metadata": {},
   "source": [
    "```bash\n",
    "pip install --pre mxnet-cu75 # CUDA 7.5\n",
    "pip install --pre mxnet-cu80 # CUDA 8.0\n",
    "```\n"
   ]
  },
  {
   "cell_type": "markdown",
   "metadata": {},
   "source": [
    "【可选项】国内用户可使用豆瓣pypi镜像加速下载:"
   ]
  },
  {
   "cell_type": "markdown",
   "metadata": {},
   "source": [
    "```bash\n",
    "pip install --pre mxnet-cu75 -i https://pypi.douban.com/simple # CUDA 7.5\n",
    "pip install --pre mxnet-cu80 -i https://pypi.douban.com/simple # CUDA 8.0\n",
    "```\n"
   ]
  },
  {
   "cell_type": "markdown",
   "metadata": {},
   "source": [
    "### 使用notedown插件来读写github源文件\n",
    "\n",
    "注意：这个只推荐给想上github提交改动的小伙伴。\n",
    "我们源代码是用markdown格式来存储，而不是jupyter默认的ipynb格式。我们可以用notedown插件来读写markdown格式。下面命令下载源代码并且安装环境："
   ]
  },
  {
   "cell_type": "markdown",
   "metadata": {},
   "source": [
    "```bash\n",
    "git clone https://github.com/mli/gluon-tutorials-zh\n",
    "cd gluon-tutorials-zh\n",
    "conda env create -f environment.yml\n",
    "source activate gluon # Windows下不需要 source\n",
    "```\n"
   ]
  },
  {
   "cell_type": "markdown",
   "metadata": {},
   "source": [
    "然后安装notedown，运行Jupyter并加载notedown插件："
   ]
  },
  {
   "cell_type": "markdown",
   "metadata": {},
   "source": [
    "```bash\n",
    "pip install https://github.com/mli/notedown/tarball/master\n",
    "jupyter notebook --NotebookApp.contents_manager_class='notedown.NotedownContentsManager'\n",
    "```\n"
   ]
  },
  {
   "cell_type": "markdown",
   "metadata": {},
   "source": [
    "【可选项】默认开启notedown插件\n",
    "\n",
    "首先生成jupyter配置文件（如果已经生成过可以跳过）"
   ]
  },
  {
   "cell_type": "markdown",
   "metadata": {},
   "source": [
    "```bash\n",
    "jupyter notebook --generate-config\n",
    "```\n"
   ]
  },
  {
   "cell_type": "markdown",
   "metadata": {},
   "source": [
    "将下面这一行加入到生成的配置文件的末尾（Linux/macOS一般在`~/.jupyter/jupyter_notebook_config.py`)"
   ]
  },
  {
   "cell_type": "markdown",
   "metadata": {},
   "source": [
    "```bash\n",
    "c.NotebookApp.contents_manager_class = 'notedown.NotedownContentsManager'\n",
    "```\n"
   ]
  },
  {
   "cell_type": "markdown",
   "metadata": {},
   "source": [
    "之后就只需要运行`jupyter notebook`即可。\n",
    "\n",
    "### 在远端服务器上运行Jupyter\n",
    "Jupyter的一个常用做法是在远端服务器上运行，然后通过 `http://myserver:8888`来访问。\n",
    "有时候防火墙阻挡了直接访问对应的端口，但ssh是可以的。如果本地机器是linux或者mac（windows通过第三方软件例如putty应该也能支持），那么可以使用端口映射"
   ]
  },
  {
   "cell_type": "markdown",
   "metadata": {},
   "source": [
    "```bash\n",
    "ssh myserver -L 8888:localhost:8888\n",
    "```\n"
   ]
  },
  {
   "cell_type": "markdown",
   "metadata": {},
   "source": [
    "然后我们可以使用[http://localhost:8888](http://localhost:8888)打开远端的Jupyter。\n",
    "\n",
    "### 运行计时\n",
    "我们可以通过ExecutionTime插件来对每个cell的运行计时。"
   ]
  },
  {
   "cell_type": "markdown",
   "metadata": {},
   "source": [
    "```bash\n",
    "pip install jupyter_contrib_nbextensions\n",
    "jupyter contrib nbextension install --user\n",
    "jupyter nbextension enable execute_time/ExecuteTime\n",
    "```\n"
   ]
  },
  {
   "cell_type": "markdown",
   "metadata": {},
   "source": [
    "## 老中医自检程序\n",
    "\n",
    "### 用途\n",
    "本教程提供了一系列自检程序供没有成功安装或者运行报错的难民进行自救，如果全篇都没找到药方，希望可以自己搜索问题，欢迎前往 https://discuss.gluon.ai 提问并且帮他人解答。\n",
    "\n",
    "### 通过Conda安装\n",
    "\n",
    "确保conda已经安装完成，并且可以在命令行识别到 \"conda --version\"\n",
    "\n",
    "#### 症状"
   ]
  },
  {
   "cell_type": "markdown",
   "metadata": {},
   "source": [
    "```bash\n",
    "-bash: conda: command not found ／’conda‘不是内部或外部命令，也不是可运行的程序\n",
    "```\n"
   ]
  },
  {
   "cell_type": "markdown",
   "metadata": {},
   "source": [
    "##### 病情分析\n",
    "\n",
    "conda不在系统搜索目录下，无法找到conda可执行文件\n",
    "\n",
    "##### 药方"
   ]
  },
  {
   "cell_type": "markdown",
   "metadata": {},
   "source": [
    "```bash\n",
    "# linux或者mac系统\n",
    "export PATH=/path/to/miniconda3/bin:$PATH\n",
    "# windows用set或者setx\n",
    "set PATH=C:\\path\\to\\miniconda3\\bin;%PATH%\n",
    "```\n"
   ]
  },
  {
   "cell_type": "markdown",
   "metadata": {},
   "source": [
    "```bash\n",
    "完成后命令行测试 \"conda --version\"\n",
    "如果显示类似于 “conda 4.3.21”，则症状痊愈\n",
    "```\n"
   ]
  },
  {
   "cell_type": "markdown",
   "metadata": {},
   "source": [
    "#### 症状"
   ]
  },
  {
   "cell_type": "markdown",
   "metadata": {},
   "source": [
    "```bash\n",
    "Conda安装正常，conda env -f environment.yml失败\n",
    "```\n"
   ]
  },
  {
   "cell_type": "markdown",
   "metadata": {},
   "source": [
    "##### 病情分析\n",
    "\n",
    "如果在国内的网络环境下，最大的可能是连接太慢，用国内镜像加速不失为一良方\n",
    "\n",
    "##### 药方\n",
    "\n",
    "* conda config --prepend channels https://mirrors.tuna.tsinghua.edu.cn/anaconda/pkgs/free/\n",
    "* 如果是miniconda可以改用Anaconda\n",
    "\n",
    "##### 病情分析\n",
    "\n",
    "失败后重新尝试 conda env -f environment.yml会报错\n",
    "##### 药方\n",
    "\n",
    "conda info -e查看失败信息，建议删除失败的env： conda env remove --name gluon --all\n",
    "### 手动pip安装\n",
    "\n",
    "#### 症状：pip install mxnet失败\n",
    "\n",
    "##### 病情分析\n",
    "\n",
    "pip本身不存在, pip --version不能正确显示pip版本号和安装目录\n",
    "\n",
    "##### 药方\n",
    "\n",
    "参考http://pip-cn.readthedocs.io/en/latest/installing.html 安装pip\n",
    "\n",
    "##### 病情分析\n",
    "\n",
    "pip版本太低\n",
    "\n",
    "##### 药方"
   ]
  },
  {
   "cell_type": "markdown",
   "metadata": {},
   "source": [
    "```bash\n",
    "pip install --upgrade pip\n",
    "```\n"
   ]
  },
  {
   "cell_type": "markdown",
   "metadata": {},
   "source": [
    "##### 病情分析\n",
    "\n",
    "无法找到匹配的wheel， No matching distribution found for mxnet>=0.11.1b20170902\n",
    "\n",
    "##### 药方\n",
    "\n",
    "确保系统被支持，比如Ubuntu 14.04/16.04, Mac10.11/10.12(10.10即将支持）， Windows 10(win7 未测试)， 如果都符合，可以试试命令"
   ]
  },
  {
   "cell_type": "markdown",
   "metadata": {},
   "source": [
    "```bash\n",
    "python -c \"import pip; print(pip.pep425tags.get_supported())\"\n",
    "```\n"
   ]
  },
  {
   "cell_type": "markdown",
   "metadata": {},
   "source": [
    "然后上论坛讨论：https://discuss.gluon.ai\n",
    "\n",
    "#### 症状： pip install mxnet 成功，但是import mxnet失败\n",
    "##### 病情分析\n",
    "\n",
    "如果看到这样的错误"
   ]
  },
  {
   "cell_type": "markdown",
   "metadata": {},
   "source": [
    "```bash\n",
    "ImportError: No module named mxnet\n",
    "```\n"
   ]
  },
  {
   "cell_type": "markdown",
   "metadata": {},
   "source": [
    "python无法找到mxnet，有可能系统上有多个python版本， 导致pip和python版本不一致\n",
    "\n",
    "##### 药方\n",
    "\n",
    "找到pip的安装目录"
   ]
  },
  {
   "cell_type": "markdown",
   "metadata": {},
   "source": [
    "```bash\n",
    "pip --version\n",
    "```\n"
   ]
  },
  {
   "cell_type": "markdown",
   "metadata": {},
   "source": [
    "找到python安装目录"
   ]
  },
  {
   "cell_type": "markdown",
   "metadata": {},
   "source": [
    "```bash\n",
    "which python\n",
    "# or\n",
    "whereis python\n",
    "# or\n",
    "python -c \"import os, sys; print(os.path.dirname(sys.executable))\"\n",
    "```\n"
   ]
  },
  {
   "cell_type": "markdown",
   "metadata": {},
   "source": [
    "如果pip目录和python目录不一致，可以改变默认加载的python，比如"
   ]
  },
  {
   "cell_type": "markdown",
   "metadata": {},
   "source": [
    "```bash\n",
    "python3 -c \"import mxnet as mx; print(mx.__version__)\"\n",
    "```\n"
   ]
  },
  {
   "cell_type": "markdown",
   "metadata": {},
   "source": [
    "或者用和python对应的pip重新安装mxnet"
   ]
  },
  {
   "cell_type": "markdown",
   "metadata": {},
   "source": [
    "```bash\n",
    "pip3 install mxnet --pre\n",
    "pip2 install mxnet --pre\n",
    "```\n"
   ]
  },
  {
   "cell_type": "markdown",
   "metadata": {},
   "source": [
    "如果不是简单的python2/3的问题，推荐修复默认调用的python。\n",
    "\n",
    "##### 病情分析\n",
    "假设你看到这个错误："
   ]
  },
  {
   "cell_type": "markdown",
   "metadata": {},
   "source": [
    "```bash\n",
    "ImportError: libgfortran.so.3: cannot open shared object file: No such file or\n",
    "directory\n",
    "```\n"
   ]
  },
  {
   "cell_type": "markdown",
   "metadata": {},
   "source": [
    "##### 药方\n",
    "这个一般发生在Linux下。安装`libgfortran`就好，例如Ubuntu下可以`sudo apt-get\n",
    "install libgfortran`\n",
    "\n",
    "#### 症状：可以import mxnet，但是版本不正常(< 0.11.1b20170908)\n",
    "##### 病情分析\n",
    "安装时没有指定最新的版本\n",
    "##### 药方\n",
    "可以使用pip\n",
    "install mxnet --upgrade --pre安装最新的mxnet\n",
    "##### 病情分析\n",
    "由于系统的问题，无法正确安装最新版本，参考 No matching\n",
    "distribution found for mxnet>=0.11.1b20170902\n",
    "### Jupyter Notebook\n",
    "#### 症状： 打开notebook乱码\n",
    "##### 病情分析\n",
    "Windows下不支持编码？\n",
    "##### 未测试药方\n",
    "把md文件用文本编辑器保存为GBK编码\n",
    "### 其他\n",
    "#### 症状： Windows下curl, tar失败\n",
    "##### 病情分析\n",
    "Windows默认不支持curl，tar\n",
    "##### 药方\n",
    "下载和解压推荐用浏览器和解压软件，手动拷贝\n",
    "### 最后\n",
    "如果你尝试了很多依然一头雾水，可以试试docker安装：https://zh.gluon.ai/install.html#docker\n",
    "\n",
    "**吐槽和讨论欢迎点**[这里](https://discuss.gluon.ai/t/topic/249)"
   ]
  }
 ],
 "metadata": {
  "language_info": {
   "name": "python"
  }
 },
 "nbformat": 4,
 "nbformat_minor": 2
}