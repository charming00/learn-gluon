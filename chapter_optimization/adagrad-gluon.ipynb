{
 "cells": [
  {
   "cell_type": "markdown",
   "metadata": {},
   "source": [
    "# Adagrad——使用Gluon\n",
    "\n",
    "\n",
    "在Gluon里，使用Adagrad很方便，我们无需重新实现该算法。\n",
    "\n",
    "首先，导入本节中实验所需的包。"
   ]
  },
  {
   "cell_type": "code",
   "execution_count": 1,
   "metadata": {},
   "outputs": [],
   "source": [
    "%config InlineBackend.figure_format = 'retina'\n",
    "%matplotlib inline\n",
    "import sys\n",
    "import mxnet as mx\n",
    "from mxnet import autograd, gluon, nd\n",
    "import numpy as np\n",
    "sys.path.append('..')\n",
    "import utils"
   ]
  },
  {
   "cell_type": "markdown",
   "metadata": {},
   "source": [
    "下面生成实验数据集并定义线性回归模型。"
   ]
  },
  {
   "cell_type": "code",
   "execution_count": 2,
   "metadata": {
    "attributes": {
     "classes": [],
     "id": "",
     "n": "1"
    }
   },
   "outputs": [],
   "source": [
    "# 生成数据集。\n",
    "num_inputs = 2\n",
    "num_examples = 1000\n",
    "true_w = [2, -3.4]\n",
    "true_b = 4.2\n",
    "X = nd.random.normal(scale=1, shape=(num_examples, num_inputs))\n",
    "y = true_w[0] * X[:, 0] + true_w[1] * X[:, 1] + true_b\n",
    "y += 0.01 * nd.random.normal(scale=1, shape=y.shape)\n",
    "\n",
    "# 线性回归模型。\n",
    "net = gluon.nn.Sequential()\n",
    "with net.name_scope():\n",
    "    net.add(gluon.nn.Dense(1))"
   ]
  },
  {
   "cell_type": "markdown",
   "metadata": {},
   "source": [
    "我们可以在Trainer中定义优化算法名称`adagrad`。以下实验分别重现了[“Adagrad——从零开始”](adagrad-scratch.md)一节中实验结果。"
   ]
  },
  {
   "cell_type": "code",
   "execution_count": 3,
   "metadata": {
    "attributes": {
     "classes": [],
     "id": "",
     "n": "3"
    }
   },
   "outputs": [
    {
     "name": "stdout",
     "output_type": "stream",
     "text": [
      "w: \n",
      "[[ 1.99969399 -3.39974785]]\n",
      "<NDArray 1x2 @cpu(0)> \n",
      "b: \n",
      "[ 4.19974899]\n",
      "<NDArray 1 @cpu(0)> \n",
      "\n"
     ]
    },
    {
     "data": {
      "image/png": "[encoded data removed]",
      "text/plain": [
       "<Figure size 252x180 with 1 Axes>"
      ]
     },
     "metadata": {
      "image/png": {
       "height": 182,
       "width": 255
      }
     },
     "output_type": "display_data"
    }
   ],
   "source": [
    "net.collect_params().initialize(mx.init.Normal(sigma=1), force_reinit=True)\n",
    "trainer = gluon.Trainer(net.collect_params(), 'adagrad',\n",
    "                        {'learning_rate': 0.9})\n",
    "utils.optimize(batch_size=10, trainer=trainer, num_epochs=3, decay_epoch=None,\n",
    "               log_interval=10, X=X, y=y, net=net)"
   ]
  },
  {
   "cell_type": "markdown",
   "metadata": {},
   "source": [
    "## 小结\n",
    "\n",
    "* 使用Gluon的`Trainer`可以方便地使用Adagrad。\n",
    "\n",
    "## 练习\n",
    "\n",
    "* 尝试使用其他的初始学习率，结果有什么变化？\n",
    "\n",
    "## 扫码直达[讨论区](https://discuss.gluon.ai/t/topic/2274)\n",
    "\n",
    "\n",
    "![](../img/qr_adagrad-gluon.svg)"
   ]
  }
 ],
 "metadata": {
  "language_info": {
   "name": "python"
  }
 },
 "nbformat": 4,
 "nbformat_minor": 2
}