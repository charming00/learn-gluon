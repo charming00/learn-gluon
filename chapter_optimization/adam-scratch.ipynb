{
 "cells": [
  {
   "cell_type": "markdown",
   "metadata": {},
   "source": [
    "# Adam——从零开始\n",
    "\n",
    "Adam是一个组合了动量法和RMSProp的优化算法 [1]。下面我们来介绍Adam算法。\n",
    "\n",
    "\n",
    "## Adam算法\n",
    "\n",
    "Adam算法使用了动量变量$\\boldsymbol{v}$和RMSProp中小批量随机梯度按元素平方的指数加权移动平均变量$\\boldsymbol{s}$，并将它们中每个元素初始化为0。在每次迭代中，首先计算小批量随机梯度$\\boldsymbol{g}$，并递增迭代次数\n",
    "\n",
    "$$t \\leftarrow t + 1.$$\n",
    "\n",
    "\n",
    "和动量法类似，给定超参数$\\beta_1$且满足$0 \\leq \\beta_1 < 1$（算法作者建议设为0.9），将小批量随机梯度$\\boldsymbol{g}$的指数加权移动平均记作动量变量$\\boldsymbol{v}$:\n",
    "\n",
    "$$\\boldsymbol{v} \\leftarrow \\beta_1 \\boldsymbol{v} + (1 - \\beta_1) \\boldsymbol{g}. $$\n",
    "\n",
    "和RMSProp中一样，给定超参数$\\beta_2$且满足$0 \\leq \\beta_2 < 1$（算法作者建议设为0.999），\n",
    "将$\\boldsymbol{g}$按元素平方后做指数加权移动平均得到$\\boldsymbol{s}$：\n",
    "\n",
    "$$\\boldsymbol{s} \\leftarrow \\beta_2 \\boldsymbol{s} + (1 - \\beta_2) \\boldsymbol{g} \\odot \\boldsymbol{g}. $$\n",
    "\n",
    "我们在[动量法——从零开始](momentum-scratch.md)一节中解释了，$\\boldsymbol{v}$和$\\boldsymbol{s}$可分别看作是最近$1/(1 - \\beta_1)$个时刻$\\boldsymbol{g}$和最近$1 / (1 - \\beta_2)$个时刻的$\\boldsymbol{g} \\odot \\boldsymbol{g}$的加权平均。假设$\\beta_1 = 0.9$，$\\beta_2 = 0.999$，如果$\\boldsymbol{v}$和$\\boldsymbol{s}$中的元素都初始化为0，在时刻1我们得到$\\boldsymbol{v} = 0.1\\boldsymbol{g}$，$\\boldsymbol{s} = 0.001\\boldsymbol{g} \\odot \\boldsymbol{g}$。实际上，在迭代初期$t$较小时，$\\boldsymbol{v}$和$\\boldsymbol{s}$可能过小而无法较准确地估计$\\boldsymbol{g}$和$\\boldsymbol{g} \\odot \\boldsymbol{g}$。为此，Adam算法使用了偏差修正：\n",
    "\n",
    "$$\\hat{\\boldsymbol{v}} \\leftarrow \\frac{\\boldsymbol{v}}{1 - \\beta_1^t}, $$\n",
    "\n",
    "$$\\hat{\\boldsymbol{s}} \\leftarrow \\frac{\\boldsymbol{s}}{1 - \\beta_2^t}. $$\n",
    "\n",
    "由于$0 \\leq \\beta_1, \\beta_2 < 1$，在迭代初期$t$较小时，上面两式的分母较接近0，相当于放大了$\\boldsymbol{v}$和$\\boldsymbol{s}$的值。\n",
    "当迭代后期$t$较大时，上面两式的分母较接近1，偏差修正就几乎不再有影响。\n",
    "\n",
    "接下来，Adam算法使用以上偏差修正后的动量变量$\\hat{\\boldsymbol{v}}$和RMSProp中小批量随机梯度按元素平方的指数加权移动平均变量$\\hat{\\boldsymbol{s}}$，将模型参数中每个元素的学习率通过按元素运算重新调整：\n",
    "\n",
    "$$\\boldsymbol{g}^\\prime \\leftarrow \\frac{\\eta \\hat{\\boldsymbol{v}}}{\\sqrt{\\hat{\\boldsymbol{s}} + \\epsilon}},$$\n",
    "\n",
    "其中$\\eta$是初始学习率且$\\eta > 0$，$\\epsilon$是为了维持数值稳定性而添加的常数，例如$10^{-8}$。和Adagrad、RMSProp以及Adadelta一样，目标函数自变量中每个元素都分别拥有自己的学习率。\n",
    "\n",
    "最后，自变量迭代步骤与小批量随机梯度下降类似：\n",
    "\n",
    "$$\\boldsymbol{x} \\leftarrow \\boldsymbol{x} - \\boldsymbol{g}^\\prime. $$\n",
    "\n",
    "\n",
    "## Adam的实现\n",
    "\n",
    "\n",
    "Adam的实现很简单。我们只需要把上面的数学公式翻译成代码。"
   ]
  },
  {
   "cell_type": "code",
   "execution_count": 1,
   "metadata": {},
   "outputs": [],
   "source": [
    "def adam(params, vs, sqrs, lr, batch_size, t):\n",
    "    beta1 = 0.9\n",
    "    beta2 = 0.999\n",
    "    eps_stable = 1e-8\n",
    "    for param, v, sqr in zip(params, vs, sqrs):      \n",
    "        g = param.grad / batch_size\n",
    "        v[:] = beta1 * v + (1 - beta1) * g\n",
    "        sqr[:] = beta2 * sqr + (1 - beta2) * g.square()\n",
    "        v_bias_corr = v / (1 - beta1 ** t)\n",
    "        sqr_bias_corr = sqr / (1 - beta2 ** t)    \n",
    "        param[:] = param - lr * v_bias_corr / (\n",
    "            sqr_bias_corr.sqrt() + eps_stable)  "
   ]
  },
  {
   "cell_type": "markdown",
   "metadata": {},
   "source": [
    "## 实验\n",
    "\n",
    "首先，导入实验所需的包。"
   ]
  },
  {
   "cell_type": "code",
   "execution_count": 2,
   "metadata": {},
   "outputs": [],
   "source": [
    "%config InlineBackend.figure_format = 'retina'\n",
    "%matplotlib inline\n",
    "import sys\n",
    "import mxnet as mx\n",
    "from mxnet import autograd, gluon, nd\n",
    "import numpy as np\n",
    "sys.path.append('..')\n",
    "import utils"
   ]
  },
  {
   "cell_type": "markdown",
   "metadata": {},
   "source": [
    "实验中，我们依然以线性回归为例。设数据集的样本数为1000，我们使用权重`w`为[2, -3.4]，偏差`b`为4.2的线性回归模型来生成数据集。该模型的平方损失函数即所需优化的目标函数，模型参数即目标函数自变量。\n",
    "\n",
    "我们把算法中变量$\\boldsymbol{v}$和$\\boldsymbol{s}$初始化为和模型参数形状相同的零张量。"
   ]
  },
  {
   "cell_type": "code",
   "execution_count": 3,
   "metadata": {
    "attributes": {
     "classes": [],
     "id": "",
     "n": "1"
    }
   },
   "outputs": [],
   "source": [
    "# 生成数据集。\n",
    "num_inputs = 2\n",
    "num_examples = 1000\n",
    "true_w = [2, -3.4]\n",
    "true_b = 4.2\n",
    "X = nd.random.normal(scale=1, shape=(num_examples, num_inputs))\n",
    "y = true_w[0] * X[:, 0] + true_w[1] * X[:, 1] + true_b\n",
    "y += 0.01 * nd.random.normal(scale=1, shape=y.shape)\n",
    "\n",
    "# 初始化模型参数。\n",
    "def init_params():\n",
    "    w = nd.random.normal(scale=1, shape=(num_inputs, 1))\n",
    "    b = nd.zeros(shape=(1,))\n",
    "    params = [w, b]\n",
    "    vs = []\n",
    "    sqrs = []\n",
    "    for param in params:\n",
    "        param.attach_grad()\n",
    "        # 把算法中基于指数加权移动平均的变量初始化为和参数形状相同的零张量。\n",
    "        vs.append(param.zeros_like())\n",
    "        sqrs.append(param.zeros_like())\n",
    "    return params, vs, sqrs"
   ]
  },
  {
   "cell_type": "markdown",
   "metadata": {},
   "source": [
    "优化函数`optimize`与[“Adagrad——从零开始”](adagrad-scratch.md)一节中的类似。"
   ]
  },
  {
   "cell_type": "code",
   "execution_count": 4,
   "metadata": {
    "attributes": {
     "classes": [],
     "id": "",
     "n": "2"
    }
   },
   "outputs": [],
   "source": [
    "net = utils.linreg\n",
    "squared_loss = utils.squared_loss\n",
    "\n",
    "def optimize(batch_size, lr, num_epochs, log_interval):\n",
    "    [w, b], vs, sqrs = init_params()\n",
    "    y_vals = [squared_loss(net(X, w, b), y).mean().asnumpy()]\n",
    "    t = 0\n",
    "    for epoch in range(1, num_epochs + 1):\n",
    "        for batch_i, (features, label) in enumerate(\n",
    "            utils.data_iter(batch_size, num_examples, X, y)):\n",
    "            with autograd.record():\n",
    "                output = net(features, w, b)\n",
    "                loss = squared_loss(output, label)\n",
    "            loss.backward()\n",
    "            # 必须在调用Adam前。\n",
    "            t += 1\n",
    "            adam([w, b], vs, sqrs, lr, batch_size, t)\n",
    "            if batch_i * batch_size % log_interval == 0:\n",
    "                y_vals.append(squared_loss(net(X, w, b), y).mean().asnumpy())\n",
    "    print('w:', w, '\\nb:', b, '\\n')\n",
    "    x_vals = np.linspace(0, num_epochs, len(y_vals), endpoint=True)\n",
    "    utils.semilogy(x_vals, y_vals, 'epoch', 'loss')"
   ]
  },
  {
   "cell_type": "markdown",
   "metadata": {},
   "source": [
    "最终，优化所得的模型参数值与它们的真实值较接近。"
   ]
  },
  {
   "cell_type": "code",
   "execution_count": 5,
   "metadata": {
    "attributes": {
     "classes": [],
     "id": "",
     "n": "3"
    }
   },
   "outputs": [
    {
     "name": "stdout",
     "output_type": "stream",
     "text": [
      "w: \n",
      "[[ 1.99847484]\n",
      " [-3.39840007]]\n",
      "<NDArray 2x1 @cpu(0)> \n",
      "b: \n",
      "[ 4.20141077]\n",
      "<NDArray 1 @cpu(0)> \n",
      "\n"
     ]
    },
    {
     "data": {
      "image/png": "[encoded data removed]",
      "text/plain": [
       "<Figure size 252x180 with 1 Axes>"
      ]
     },
     "metadata": {
      "image/png": {
       "height": 182,
       "width": 255
      }
     },
     "output_type": "display_data"
    }
   ],
   "source": [
    "optimize(batch_size=10, lr=0.1, num_epochs=3, log_interval=10)"
   ]
  },
  {
   "cell_type": "markdown",
   "metadata": {},
   "source": [
    "## 小结\n",
    "\n",
    "* Adam组合了动量法和RMSProp。\n",
    "* Adam使用了偏差修正。\n",
    "\n",
    "\n",
    "## 练习\n",
    "\n",
    "* 使用其他初始学习率，观察并分析实验结果。\n",
    "\n",
    "\n",
    "## 扫码直达[讨论区](https://discuss.gluon.ai/t/topic/2279)\n",
    "\n",
    "\n",
    "![](../img/qr_adam-scratch.svg)\n",
    "\n",
    "## 参考文献\n",
    "\n",
    "[1] Kingma, D. P., & Ba, J. (2014). Adam: A Method for Stochastic Optimization. arXiv preprint arXiv:1412.6980."
   ]
  }
 ],
 "metadata": {
  "language_info": {
   "name": "python"
  }
 },
 "nbformat": 4,
 "nbformat_minor": 2
}