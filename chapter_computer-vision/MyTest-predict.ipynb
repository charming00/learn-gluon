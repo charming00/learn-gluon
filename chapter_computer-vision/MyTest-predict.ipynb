{
 "cells": [
  {
   "cell_type": "code",
   "execution_count": 1,
   "metadata": {
    "collapsed": true
   },
   "outputs": [],
   "source": [
    "from mxnet import image\n",
    "from mxnet import gluon\n",
    "from mxnet import nd\n",
    "from mxnet.gluon import nn,Block\n",
    "from mxnet import init\n",
    "from mxnet.gluon.model_zoo import vision as models\n",
    "import mxnet as mx\n",
    "import numpy as np\n",
    "import random\n",
    "import sys\n",
    "sys.path.append('..')\n",
    "import utils\n",
    "from time import time\n",
    "start = time()\n",
    "data_root = '../data'\n",
    "image_root = data_root + '/CephalometricLandmark/RawImage'\n",
    "# image_root = data_root + '/CephalometricLandmark/ContrastImage1'\n",
    "txt_root = data_root + '/CephalometricLandmark/AnnotationsByMD'\n",
    "model_params_root = data_root + '/CephalometricLandmark/model_params'\n",
    "\n",
    "colormap = [[0,0,0],[128,0,0],[0,128,0], [128,128,0], [0,0,128],\n",
    "            [128,0,128],[0,64,128],[128,128,128],[64,0,0],[192,0,0],\n",
    "            [64,128,0],[192,128,0],[64,0,128],[192,0,128],\n",
    "            [64,128,128],[192,128,128],[0,64,0],[128,64,0],\n",
    "            [0,192,0],[128,192,0]]\n",
    "rgb_mean = nd.array([0.485, 0.456, 0.406])\n",
    "rgb_std = nd.array([0.229, 0.224, 0.225])\n",
    "\n",
    "landmark_index = 3\n",
    "expand_size = 320"
   ]
  },
  {
   "cell_type": "code",
   "execution_count": 2,
   "metadata": {
    "collapsed": true
   },
   "outputs": [],
   "source": [
    "def read_images(dataset_num=0):\n",
    "    if dataset_num == 0:\n",
    "        begin_index = 1\n",
    "        end_index = 151\n",
    "    elif dataset_num == 1:\n",
    "        begin_index = 151\n",
    "        end_index = 301\n",
    "    else:\n",
    "        begin_index = 301\n",
    "        end_index = 401\n",
    "\n",
    "    data = [None] * (end_index - begin_index)\n",
    "    label = [None] * (end_index - begin_index)\n",
    "    index = 0\n",
    "    for i in range(begin_index, end_index):\n",
    "        image_filename = image_root + \"/%03d.bmp\" % (i)\n",
    "        data[index] = image.imread(image_filename)\n",
    "        txt_filename = txt_root + '/400_junior' + \"/%03d.txt\" % i\n",
    "        with open(txt_filename, 'r') as f:\n",
    "            txts = f.read().split()\n",
    "        x = int(txts[landmark_index].split(',')[0])\n",
    "        y = int(txts[landmark_index].split(',')[1])\n",
    "        label[index]= (x , y)\n",
    "        index += 1\n",
    "    return data,label"
   ]
  },
  {
   "cell_type": "code",
   "execution_count": 3,
   "metadata": {
    "collapsed": true
   },
   "outputs": [],
   "source": [
    "def crop_image_net0(images,labels):\n",
    "    lenth = len(images)\n",
    "    data = [None] * lenth\n",
    "    label = [None] * lenth\n",
    "    for i in range(len(images)):\n",
    "        height = images[i].shape[0]\n",
    "        width = images[i].shape[1]\n",
    "        data[i] = images[i][height - 1920 : height , width - 1600:width]\n",
    "        label[i] = (labels[i][0] - width + 1600,labels[i][1] - height + 1920)\n",
    "    return data,label\n",
    "        "
   ]
  },
  {
   "cell_type": "code",
   "execution_count": 4,
   "metadata": {
    "collapsed": true
   },
   "outputs": [],
   "source": [
    "def crop_image_net1(images,labels,centerx,centery):\n",
    "    height = images.shape[0]\n",
    "    width = images.shape[1]\n",
    "    minx = centerx - 320\n",
    "    miny = centery - 320\n",
    "    if minx < 0:\n",
    "        minx = 0\n",
    "    if minx + 640 > width:\n",
    "        minx = width - 640\n",
    "    if miny < 0:\n",
    "        miny = 0\n",
    "    if miny + 640 > height:\n",
    "        miny = height - 640\n",
    "    data = images[miny : miny + 640 , minx : minx + 640]\n",
    "    label = (labels[0] - minx,labels[1] - miny)\n",
    "    return data,label"
   ]
  },
  {
   "cell_type": "code",
   "execution_count": 5,
   "metadata": {
    "collapsed": true
   },
   "outputs": [],
   "source": [
    "def crop_image_net2(images,labels,centerx,centery):\n",
    "    height = images.shape[0]\n",
    "    width = images.shape[1]\n",
    "    minx = centerx - 32\n",
    "    miny = centery - 32\n",
    "    if minx < 0:\n",
    "        minx = 0\n",
    "    if minx + 64 > width:\n",
    "        minx = width - 64\n",
    "    if miny < 0:\n",
    "        miny = 0\n",
    "    if miny + 64 > height:\n",
    "        miny = height - 64\n",
    "    data = images[miny : miny + 64 , minx : minx + 64]\n",
    "    label = (labels[0] - minx,labels[1] - miny)\n",
    "    return data,label"
   ]
  },
  {
   "cell_type": "code",
   "execution_count": 6,
   "metadata": {},
   "outputs": [
    {
     "name": "stdout",
     "output_type": "stream",
     "text": [
      "(1920, 1600, 3)\n"
     ]
    }
   ],
   "source": [
    "test_images, test_labels = read_images(1)\n",
    "test_images, test_labels = crop_image_net0(test_images, test_labels)\n",
    "print(test_images[0].shape)"
   ]
  },
  {
   "cell_type": "code",
   "execution_count": 7,
   "metadata": {
    "collapsed": true
   },
   "outputs": [],
   "source": [
    "ctx = utils.try_all_gpus()"
   ]
  },
  {
   "cell_type": "code",
   "execution_count": 8,
   "metadata": {
    "collapsed": true
   },
   "outputs": [],
   "source": [
    "pretrained_net = models.resnet18_v2(pretrained=True)\n",
    "net0 = nn.HybridSequential()\n",
    "for layer in pretrained_net.features[:-2]:\n",
    "    net0.add(layer)\n",
    "with net0.name_scope():\n",
    "    net0.add(\n",
    "        nn.Conv2D(2, kernel_size=1),\n",
    "        nn.Conv2DTranspose(2, kernel_size=64, padding=16,strides=32)\n",
    "    )\n",
    "net0[-1].initialize(init=init.Zero())\n",
    "net0[-2].initialize(init=init.Xavier())\n",
    "net0.collect_params().reset_ctx(ctx)\n",
    "net0.load_params(filename = model_params_root + '/net0-mark%02d-resnet18-epochs100.json'%(landmark_index+1),ctx = ctx)"
   ]
  },
  {
   "cell_type": "code",
   "execution_count": 9,
   "metadata": {
    "collapsed": true
   },
   "outputs": [],
   "source": [
    "pretrained_net = models.resnet18_v2(pretrained=True)\n",
    "net1 = nn.HybridSequential()\n",
    "for layer in pretrained_net.features[:-2]:\n",
    "    net1.add(layer)\n",
    "with net1.name_scope():\n",
    "    net1.add(\n",
    "        nn.Conv2D(2, kernel_size=1),\n",
    "        nn.Conv2DTranspose(2, kernel_size=64, padding=16,strides=32)\n",
    "    )\n",
    "net1[-1].initialize(init=init.Zero())\n",
    "net1[-2].initialize(init=init.Xavier())\n",
    "net1.collect_params().reset_ctx(ctx)\n",
    "net1.load_params(filename = model_params_root + '/net1-mark%02d-resnet18-epochs100.json'%(landmark_index+1),ctx = ctx)"
   ]
  },
  {
   "cell_type": "code",
   "execution_count": 10,
   "metadata": {
    "collapsed": true
   },
   "outputs": [],
   "source": [
    "# pretrained_net = models.resnet18_v2(pretrained=True)\n",
    "# net2 = nn.HybridSequential()\n",
    "# for layer in pretrained_net.features[:-2]:\n",
    "#     net2.add(layer)\n",
    "# with net2.name_scope():\n",
    "#     net2.add(\n",
    "#         nn.Conv2D(2, kernel_size=1),\n",
    "#         nn.Conv2DTranspose(2, kernel_size=64, padding=16,strides=32)\n",
    "#     )\n",
    "# net2[-1].initialize(init=init.Zero())\n",
    "# net2[-2].initialize(init=init.Xavier())\n",
    "# net2.collect_params().reset_ctx(ctx[0])\n",
    "# net2.load_params(filename = model_params_root + '/net2-mark10-resnet18-epochs100.json',ctx = ctx[0])"
   ]
  },
  {
   "cell_type": "code",
   "execution_count": 11,
   "metadata": {
    "collapsed": true
   },
   "outputs": [],
   "source": [
    "def normalize_image(data):\n",
    "    return (data.astype('float32') / 255 - rgb_mean) / rgb_std"
   ]
  },
  {
   "cell_type": "code",
   "execution_count": 12,
   "metadata": {
    "collapsed": true
   },
   "outputs": [],
   "source": [
    "def predict(im, mynet):\n",
    "    data = normalize_image(im)\n",
    "    data = data.transpose((2,0,1)).expand_dims(axis=0)\n",
    "    yhat = mynet(data.as_in_context(ctx[0]))\n",
    "    pred = nd.argmax(yhat, axis=1)\n",
    "    return pred.reshape((pred.shape[1], pred.shape[2]))\n",
    "\n",
    "def label2image(pred):\n",
    "    x = pred.astype('int32').asnumpy()\n",
    "    cm = nd.array(colormap).astype('uint8')\n",
    "    return nd.array(cm[x,:])"
   ]
  },
  {
   "cell_type": "code",
   "execution_count": 13,
   "metadata": {
    "collapsed": true
   },
   "outputs": [],
   "source": [
    "def cal_point(result):\n",
    "    if(len(np.where(result.asnumpy()>0)[1]) == 0):\n",
    "        return -1,-1\n",
    "    result_avgx = np.average(np.where(result.asnumpy()>0)[1])\n",
    "    result_avgy = np.average(np.where(result.asnumpy()>0)[0])\n",
    "    return int(round(result_avgx)), int(round(result_avgy))"
   ]
  },
  {
   "cell_type": "code",
   "execution_count": 14,
   "metadata": {
    "collapsed": true
   },
   "outputs": [],
   "source": [
    "def evaluate_acc(result, label):\n",
    "    result_avgx, result_avgy = cal_point(result)\n",
    "    if(result_avgx <=0 or result_avgy <= 0):\n",
    "        return False,False,False,False\n",
    "    \n",
    "    d = pow((result_avgx - label[0]),2) + pow((result_avgy - label[1]),2)\n",
    "\n",
    "    return (d < 400, d < 625, d < 900, d < 400)"
   ]
  },
  {
   "cell_type": "code",
   "execution_count": 15,
   "metadata": {
    "scrolled": true
   },
   "outputs": [
    {
     "name": "stdout",
     "output_type": "stream",
     "text": [
      "0.06666666666666667    0.68    0.0\n",
      "耗时 50.48726963996887 秒\n"
     ]
    }
   ],
   "source": [
    "n = len(test_images)\n",
    "# n = 100\n",
    "imgs = []\n",
    "acc1 = 0\n",
    "acc2 = 0\n",
    "acc3 = 0\n",
    "acc4 = 0\n",
    "\n",
    "acc4_net0 = 0\n",
    "acc4_net1 = 0\n",
    "acc4_net2 = 0\n",
    "# print(test_images[0])\n",
    "\n",
    "for i in range(n):\n",
    "#     print(\"================\" + str(i) + \"================\")\n",
    "    current_image = test_images[i]\n",
    "    current_label = test_labels[i]\n",
    "#     start = time()\n",
    "    result0 = predict(current_image,net0)\n",
    "    net0x,net0y = cal_point(result0)\n",
    "#     print(net0x,net0y)\n",
    "#     print(current_label)\n",
    "    _, _ ,_ , f4 = evaluate_acc(result0,current_label)\n",
    "    acc4_net0 += int(f4)\n",
    "    current_image, current_label = crop_image_net1(current_image,current_label,net0x,net0y)\n",
    "    \n",
    "    \n",
    "    result1 = predict(current_image,net1)\n",
    "    net1x,net1y = cal_point(result1)\n",
    "#     print(net1x,net1y)\n",
    "#     print(current_label)\n",
    "    _, _ ,_ ,f4 = evaluate_acc(result1,current_label)\n",
    "    acc4_net1 += int(f4)\n",
    "#     current_image, current_label = crop_image_net2(current_image,current_label,net1x,net1y)\n",
    "    \n",
    "#     result2 = predict(current_image,net2)\n",
    "#     net2x,net2y = cal_point(result2)\n",
    "#     print(net2x,net2y)\n",
    "#     print(current_label)\n",
    "#     _, _ ,_ , f4 = evaluate_acc(result2,current_label)\n",
    "#     acc4_net2 += int(f4)\n",
    "    \n",
    "\n",
    "\n",
    "#     print(type(np.where(result.asnumpy()>0)[0]))\n",
    "#     print(np.where(test_labels[i].asnumpy()>0))\n",
    "#     pred = label2image(predict(x))\n",
    "#     label = nd.zeros((test_images[i].shape[0], test_images[i].shape[1]))\n",
    "#     minx = test_labels[i][0] - expand_size\n",
    "#     maxx = test_labels[i][0] + expand_size\n",
    "#     if minx < 0:\n",
    "#         minx = 0\n",
    "#     if maxx >= 1600:\n",
    "#         maxx = 1600-1\n",
    "\n",
    "#     miny = test_labels[i][1] - expand_size\n",
    "#     maxy = test_labels[i][1] + expand_size\n",
    "#     if miny < 0:\n",
    "#         miny = 0\n",
    "#     if maxy >= 1920:\n",
    "#         maxy = 1920-1\n",
    "#     label[miny:maxy, minx:maxx] = 1\n",
    "#     imgs += [x, pred, label2image(label)]\n",
    "print(acc4_net0/n,\"  \", acc4_net1/n,\"  \", acc4_net2/n)\n",
    "# utils.show_images(imgs, nrows=n, ncols=3, figsize=(6,20))\n",
    "print('耗时',str(time() - start),'秒')"
   ]
  },
  {
   "cell_type": "code",
   "execution_count": null,
   "metadata": {},
   "outputs": [],
   "source": []
  },
  {
   "cell_type": "code",
   "execution_count": null,
   "metadata": {
    "collapsed": true
   },
   "outputs": [],
   "source": []
  }
 ],
 "metadata": {
  "kernelspec": {
   "display_name": "Python 3",
   "language": "python",
   "name": "python3"
  },
  "language_info": {
   "codemirror_mode": {
    "name": "ipython",
    "version": 3
   },
   "file_extension": ".py",
   "mimetype": "text/x-python",
   "name": "python",
   "nbconvert_exporter": "python",
   "pygments_lexer": "ipython3",
   "version": "3.6.2"
  }
 },
 "nbformat": 4,
 "nbformat_minor": 2
}
