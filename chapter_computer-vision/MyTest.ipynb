{
 "cells": [
  {
   "cell_type": "code",
   "execution_count": 1,
   "metadata": {},
   "outputs": [
    {
     "data": {
      "text/plain": [
       "(20, 20)"
      ]
     },
     "execution_count": 1,
     "metadata": {},
     "output_type": "execute_result"
    }
   ],
   "source": [
    "import numpy as np\n",
    "from mxnet import nd\n",
    "classes = ['background','p1','p2','p3','p4',\n",
    "           'p5','p6','p7','p8','p9','p10',\n",
    "           'p11','p12','p13','p14','p15',\n",
    "           'p16','p17','p18','p19']\n",
    "# RGB color for each class\n",
    "colormap = [[0,0,0],[128,0,0],[0,128,0], [128,128,0], [0,0,128],\n",
    "            [128,0,128],[0,64,128],[128,128,128],[64,0,0],[192,0,0],\n",
    "            [64,128,0],[192,128,0],[64,0,128],[192,0,128],\n",
    "            [64,128,128],[192,128,128],[0,64,0],[128,64,0],\n",
    "            [0,192,0],[128,192,0]]\n",
    "\n",
    "len(classes), len(colormap)\n",
    "\n"
   ]
  },
  {
   "cell_type": "code",
   "execution_count": 2,
   "metadata": {
    "collapsed": true
   },
   "outputs": [],
   "source": [
    "def image_crop(data,label,min_xy,max_xy,width=640,height=640):\n",
    "#     x0 = int(min_xy[0] - (width - (max_xy[0] - min_xy[0])) / 2)\n",
    "#     y0 = int(min_xy[1] - (height - (max_xy[1] - min_xy[1])) / 2)\n",
    "    x0 = 504\n",
    "    y0 = 697\n",
    "    expand_size = 15\n",
    "    cropped_label = nd.zeros((data.shape[0],data.shape[1]))\n",
    "#     cropped_label[label[1],label[0]] = 1\n",
    "    cropped_label[label[1]-expand_size:label[1]+expand_size,label[0]-expand_size:label[0]+expand_size] = 1\n",
    "    return image.fixed_crop(data,x0,y0,width,height), cropped_label[y0:y0+640,x0:x0+640]"
   ]
  },
  {
   "cell_type": "code",
   "execution_count": 3,
   "metadata": {
    "collapsed": true
   },
   "outputs": [],
   "source": [
    "from mxnet import image\n",
    "import sys\n",
    "sys.path.append('..')\n",
    "import utils\n",
    "from time import time\n",
    "\n",
    "data_root = '../data'\n",
    "image_root = data_root + '/CephalometricLandmark/RawImage'\n",
    "txt_root = data_root + '/CephalometricLandmark/AnnotationsByMD'\n",
    "\n",
    "def read_images(landmark_index,dataset_num=0):\n",
    "    \n",
    "    if dataset_num == 0:\n",
    "        begin_index = 1\n",
    "        end_index = 151\n",
    "        image_path = image_root + '/TrainingData'\n",
    "    elif dataset_num == 1:\n",
    "        begin_index = 151\n",
    "        end_index = 301\n",
    "        image_path = image_root + '/Test1Data'\n",
    "    else:\n",
    "        begin_index = 301\n",
    "        end_index = 401\n",
    "        image_path = image_root + '/Test2Data'\n",
    "    \n",
    "    data , label =  [None] * (end_index - begin_index), [None] * (end_index - begin_index)\n",
    "#     expand_label =  [None] * (end_index - begin_index)\n",
    "#     bounding_box = [[[2000,2000],[0,0],[0,0]] for i in range(19)]\n",
    "    bounding_box = [[2400,2400],[0,0],[0,0]]\n",
    "    index = 0\n",
    "    expand_size = 20\n",
    "    for i in range(begin_index,end_index):\n",
    "        image_filename = image_path + \"/%03d.bmp\" % i\n",
    "        txt_filename1 =  txt_root + '/400_senior' +\"/%03d.txt\" % i\n",
    "        txt_filename2 =  txt_root + '/400_junior' +\"/%03d.txt\" % i\n",
    "#         label_image[index] = nd.zeros_like(data[index])\n",
    "        \n",
    "        \n",
    "        with open(txt_filename1, 'r') as f:\n",
    "            txts = f.read().split()\n",
    "#读取所有的标志点，会导致内存过大，最好一个一个读取\n",
    "#         for j in range(19):\n",
    "#             x = int(txts[j].split(',')[0])\n",
    "#             y = int(txts[j].split(',')[1])\n",
    "#             label[index][j]=[x,y]\n",
    "#             label_image[index][y-expand_size:y+expand_size,x-expand_size:x+expand_size] = colormap[j+1]\n",
    "\n",
    "#             bounding_box[j][0][0] = min(bounding_box[j][0][0],x)\n",
    "#             bounding_box[j][0][1] = min(bounding_box[j][0][1],y)\n",
    "#             bounding_box[j][1][0] = max(bounding_box[j][1][0],x)\n",
    "#             bounding_box[j][1][1] = max(bounding_box[j][1][1],y)\n",
    "#             bounding_box[j][2][0] = bounding_box[j][1][0] - bounding_box[j][0][0]\n",
    "#             bounding_box[j][2][1] = bounding_box[j][1][1] - bounding_box[j][0][1]\n",
    "        x = int(txts[landmark_index].split(',')[0])\n",
    "        y = int(txts[landmark_index].split(',')[1])\n",
    "#         label_image[index][y-expand_size:y+expand_size,x-expand_size:x+expand_size] = colormap[landmark_index+1]\n",
    "\n",
    "        \n",
    "        bounding_box[0][0] = min(bounding_box[0][0],x)\n",
    "        bounding_box[0][1] = min(bounding_box[0][1],y)\n",
    "        bounding_box[1][0] = max(bounding_box[1][0],x)\n",
    "        bounding_box[1][1] = max(bounding_box[1][1],y)\n",
    "        bounding_box[2][0] = bounding_box[1][0] - bounding_box[0][0]\n",
    "        bounding_box[2][1] = bounding_box[1][1] - bounding_box[0][1]\n",
    "        \n",
    "        image_tmp = image.imread(image_filename)\n",
    "        data[index], label[index] = image_crop(image_tmp,[x,y],bounding_box[0],bounding_box[1])\n",
    "#         print(data[index].shape, label[index].shape)\n",
    "        del image_tmp\n",
    "        index+=1\n",
    "#     return data,label_image,label,bounding_box\n",
    "    return data,label\n",
    "\n",
    "\n",
    "\n",
    "# train_images, train_label_images, train_labels,bounding_boxes= read_images(0)\n"
   ]
  },
  {
   "cell_type": "code",
   "execution_count": 4,
   "metadata": {
    "collapsed": true
   },
   "outputs": [],
   "source": [
    "# imgs = [train_images[0],train_label_images[0]]\n",
    "# # print(bounding_boxes)\n",
    "# # print(type(train_images))\n",
    "# landmarkindex = 2\n",
    "# margin_size = 100\n",
    "# for i in range(19):\n",
    "# #     imgs += [train_images[i][900:1100,800:1000],train_labels[i][990:1050,800:860]]\n",
    "# #     x = train_labels[i][1][0]\n",
    "# #     y = train_labels[i][1][1]\n",
    "# #     size = 40\n",
    "# #     imgs += [train_images[i][y-size:y+size,x-size:x+size],train_label_images[i][y-size:y+size,x-size:x+size]]\n",
    "    \n",
    "#     minx = bounding_boxes[0][0]\n",
    "#     miny = bounding_boxes[0][1]\n",
    "#     maxx = bounding_boxes[1][0]\n",
    "#     maxy = bounding_boxes[1][1]\n",
    "\n",
    "#     imgs += [train_images[i][miny-margin_size:maxy+margin_size,minx-margin_size:maxx+margin_size],train_label_images[i][miny-margin_size:maxy+margin_size,minx-margin_size:maxx+margin_size]]\n",
    "# # print(train_labels[0][981:1001,819:839])\n",
    "# utils.show_images(imgs, nrows=19, ncols=2,figsize=(12,160))\n",
    "# [im.shape for im in imgs]"
   ]
  },
  {
   "cell_type": "code",
   "execution_count": 5,
   "metadata": {
    "collapsed": true
   },
   "outputs": [],
   "source": [
    "\n",
    "# imgs = []\n",
    "# landmark_index = 0\n",
    "# for i in range(10):\n",
    "#     crop_image = image_crop(train_images[i],bounding_boxes[0],bounding_boxes[1])\n",
    "#     crop_label = image_crop(train_label_images[i],bounding_boxes[0],bounding_boxes[1])\n",
    "#     imgs += [crop_image,crop_label]\n",
    "# utils.show_images(imgs, nrows=10, ncols=2,figsize=(12,160))"
   ]
  },
  {
   "cell_type": "code",
   "execution_count": 6,
   "metadata": {
    "collapsed": true
   },
   "outputs": [],
   "source": [
    "from mxnet import gluon\n",
    "from mxnet import nd\n",
    "\n",
    "\n",
    "rgb_mean = nd.array([0.485, 0.456, 0.406])\n",
    "rgb_std = nd.array([0.229, 0.224, 0.225])\n",
    "\n",
    "def normalize_image(data):\n",
    "    return (data.astype('float32') / 255 - rgb_mean) / rgb_std\n",
    "\n",
    "class VOCSegDataset(gluon.data.Dataset):\n",
    "\n",
    "    def __init__(self, dataset_num, crop_size):\n",
    "        self.crop_size = crop_size\n",
    "        self.data, self.label = read_images(0,dataset_num=dataset_num)\n",
    "        self.data[:] = [normalize_image(im) for im in self.data]\n",
    "#         for i in range(len(self.data)):\n",
    "#             tmp = image_crop(self.data[i], self.bounding_box[0], self.bounding_box[1],*self.crop_size)\n",
    "#             self.data[i].reshape(tmp.shape)\n",
    "#             self.data[i] = tmp.transpose((2,0,1))\n",
    "#             tmp = image_crop(self.label_image[i], self.bounding_box[0], self.bounding_box[1],*self.crop_size)\n",
    "#             self.label_image[i].reshape(tmp.shape)\n",
    "#             self.label_image[i] = tmp.transpose((2,0,1))\n",
    "        print('Read '+str(len(self.data))+' examples')\n",
    "\n",
    "    def __getitem__(self, idx):\n",
    "#         data,label = image_crop(self.data[idx],self.label[idx],self.bounding_box[0], self.bounding_box[1],*self.crop_size)\n",
    "\n",
    "        return self.data[idx].transpose((2,0,1)), self.label[idx]\n",
    "\n",
    "    def __len__(self):\n",
    "        return len(self.data)"
   ]
  },
  {
   "cell_type": "code",
   "execution_count": 7,
   "metadata": {},
   "outputs": [
    {
     "name": "stdout",
     "output_type": "stream",
     "text": [
      "Read 150 examples\n",
      "Read 150 examples\n"
     ]
    }
   ],
   "source": [
    "input_shape = (640, 640)\n",
    "voc_train = VOCSegDataset(0, input_shape)\n",
    "voc_test1 = VOCSegDataset(1, input_shape)\n",
    "# voc_test2 = VOCSegDataset(2, input_shape)"
   ]
  },
  {
   "cell_type": "code",
   "execution_count": 8,
   "metadata": {},
   "outputs": [
    {
     "name": "stdout",
     "output_type": "stream",
     "text": [
      "(16, 3, 640, 640)\n",
      "(16, 640, 640)\n"
     ]
    }
   ],
   "source": [
    "batch_size = 16\n",
    "train_data = gluon.data.DataLoader(\n",
    "    voc_train, batch_size, shuffle=True,last_batch='discard')\n",
    "test_data = gluon.data.DataLoader(\n",
    "    voc_test1, batch_size,last_batch='discard')\n",
    "\n",
    "for data, label in train_data:\n",
    "    print(data.shape)\n",
    "    print(label.shape)\n",
    "    break"
   ]
  },
  {
   "cell_type": "code",
   "execution_count": 9,
   "metadata": {},
   "outputs": [
    {
     "name": "stdout",
     "output_type": "stream",
     "text": [
      "Input: (1, 3, 64, 64)\n",
      "After conv: (1, 10, 32, 32)\n",
      "After transposed conv (1, 3, 64, 64)\n"
     ]
    }
   ],
   "source": [
    "from mxnet.gluon import nn\n",
    "\n",
    "conv = nn.Conv2D(10, kernel_size=4, padding=1, strides=2)\n",
    "conv_trans = nn.Conv2DTranspose(3, kernel_size=4, padding=1, strides=2)\n",
    "\n",
    "conv.initialize()\n",
    "conv_trans.initialize()\n",
    "\n",
    "x = nd.random.uniform(shape=(1,3,64,64))\n",
    "y = conv(x)\n",
    "print('Input:', x.shape)\n",
    "print('After conv:', y.shape)\n",
    "print('After transposed conv', conv_trans(y).shape)"
   ]
  },
  {
   "cell_type": "code",
   "execution_count": 10,
   "metadata": {},
   "outputs": [
    {
     "data": {
      "text/plain": [
       "([BatchNorm(axis=1, eps=1e-05, momentum=0.9, fix_gamma=False, use_global_stats=False, in_channels=512),\n",
       "  Activation(relu),\n",
       "  GlobalAvgPool2D(size=(1, 1), stride=(1, 1), padding=(0, 0), ceil_mode=True),\n",
       "  Flatten],\n",
       " Dense(512 -> 1000, linear))"
      ]
     },
     "execution_count": 10,
     "metadata": {},
     "output_type": "execute_result"
    }
   ],
   "source": [
    "from mxnet.gluon.model_zoo import vision as models\n",
    "pretrained_net = models.resnet18_v2(pretrained=True)\n",
    "\n",
    "(pretrained_net.features[-4:], pretrained_net.output)"
   ]
  },
  {
   "cell_type": "code",
   "execution_count": 11,
   "metadata": {},
   "outputs": [],
   "source": [
    "net = nn.HybridSequential()\n",
    "for layer in pretrained_net.features[:-2]:\n",
    "    net.add(layer)\n",
    "\n",
    "# x = nd.random.uniform(shape=(1,3,*input_shape))\n",
    "# print('Input:', x.shape)\n",
    "# print('Output:', net(x).shape)"
   ]
  },
  {
   "cell_type": "code",
   "execution_count": 12,
   "metadata": {
    "collapsed": true
   },
   "outputs": [],
   "source": [
    "num_classes = len(classes)\n",
    "\n",
    "with net.name_scope():\n",
    "    net.add(\n",
    "        nn.Conv2D(2, kernel_size=1),\n",
    "        nn.Conv2DTranspose(2, kernel_size=64, padding=16,strides=32)\n",
    "    )"
   ]
  },
  {
   "cell_type": "code",
   "execution_count": 13,
   "metadata": {
    "collapsed": true
   },
   "outputs": [],
   "source": [
    "def bilinear_kernel(in_channels, out_channels, kernel_size):\n",
    "    factor = (kernel_size + 1) // 2\n",
    "    if kernel_size % 2 == 1:\n",
    "        center = factor - 1\n",
    "    else:\n",
    "        center = factor - 0.5\n",
    "    og = np.ogrid[:kernel_size, :kernel_size]\n",
    "    filt = (1 - abs(og[0] - center) / factor) * \\\n",
    "           (1 - abs(og[1] - center) / factor)\n",
    "    weight = np.zeros(\n",
    "        (in_channels, out_channels, kernel_size, kernel_size),\n",
    "        dtype='float32')\n",
    "    weight[range(in_channels), range(out_channels), :, :] = filt\n",
    "    return nd.array(weight)"
   ]
  },
  {
   "cell_type": "code",
   "execution_count": 14,
   "metadata": {
    "collapsed": true
   },
   "outputs": [],
   "source": [
    "# from matplotlib import pyplot as plt\n",
    "\n",
    "# x = train_images[0]\n",
    "# print('Input', x.shape)\n",
    "# x = x.astype('float32').transpose((2,0,1)).expand_dims(axis=0)/255\n",
    "\n",
    "# conv_trans = nn.Conv2DTranspose(\n",
    "#     3, in_channels=3, kernel_size=8, padding=2, strides=4)\n",
    "# conv_trans.initialize()\n",
    "# conv_trans(x)\n",
    "# conv_trans.weight.set_data(bilinear_kernel(3, 3, 8))\n",
    "\n",
    "\n",
    "# y = conv_trans(x)\n",
    "# y = y[0].clip(0,1).transpose((1,2,0))\n",
    "# print('Output', y.shape)\n",
    "\n",
    "# plt.imshow(y.asnumpy())\n",
    "# plt.show()"
   ]
  },
  {
   "cell_type": "code",
   "execution_count": 15,
   "metadata": {},
   "outputs": [],
   "source": [
    "from mxnet import init\n",
    "\n",
    "conv_trans = net[-1]\n",
    "conv_trans.initialize(init=init.Zero())\n",
    "net[-2].initialize(init=init.Xavier())\n",
    "\n",
    "x = nd.zeros((batch_size, 3, *input_shape))\n",
    "net(x)\n",
    "\n",
    "shape = conv_trans.weight.data().shape\n",
    "conv_trans.weight.set_data(bilinear_kernel(*shape[0:3]))"
   ]
  },
  {
   "cell_type": "code",
   "execution_count": null,
   "metadata": {
    "collapsed": true
   },
   "outputs": [],
   "source": []
  },
  {
   "cell_type": "code",
   "execution_count": null,
   "metadata": {
    "collapsed": true
   },
   "outputs": [],
   "source": []
  },
  {
   "cell_type": "code",
   "execution_count": 16,
   "metadata": {},
   "outputs": [
    {
     "name": "stdout",
     "output_type": "stream",
     "text": [
      "Start training on  [gpu(0)]\n",
      "Epoch 0. Loss: 0.033, Train acc 0.99, Test acc 1.00, Time 16.5 sec\n",
      "Epoch 1. Loss: 0.011, Train acc 1.00, Test acc 1.00, Time 6.1 sec\n",
      "Epoch 2. Loss: 0.008, Train acc 1.00, Test acc 1.00, Time 6.1 sec\n",
      "Epoch 3. Loss: 0.007, Train acc 1.00, Test acc 1.00, Time 6.1 sec\n",
      "Epoch 4. Loss: 0.006, Train acc 1.00, Test acc 1.00, Time 6.1 sec\n",
      "Epoch 5. Loss: 0.006, Train acc 1.00, Test acc 1.00, Time 6.0 sec\n",
      "Epoch 6. Loss: 0.005, Train acc 1.00, Test acc 1.00, Time 6.0 sec\n",
      "Epoch 7. Loss: 0.005, Train acc 1.00, Test acc 1.00, Time 6.1 sec\n",
      "Epoch 8. Loss: 0.005, Train acc 1.00, Test acc 1.00, Time 6.1 sec\n",
      "Epoch 9. Loss: 0.004, Train acc 1.00, Test acc 1.00, Time 6.1 sec\n"
     ]
    }
   ],
   "source": [
    "import sys\n",
    "sys.path.append('..')\n",
    "import utils\n",
    "\n",
    "loss = gluon.loss.SoftmaxCrossEntropyLoss(axis=1)\n",
    "\n",
    "ctx = utils.try_all_gpus()\n",
    "net.collect_params().reset_ctx(ctx)\n",
    "\n",
    "trainer = gluon.Trainer(net.collect_params(),\n",
    "                        'sgd', {'learning_rate': .1, 'wd':1e-3})\n",
    "\n",
    "utils.train(train_data, test_data, net, loss,\n",
    "            trainer, ctx, num_epochs=10)"
   ]
  },
  {
   "cell_type": "code",
   "execution_count": 17,
   "metadata": {
    "collapsed": true
   },
   "outputs": [],
   "source": [
    "def predict(im):\n",
    "    data = normalize_image(im)\n",
    "    data = data.transpose((2,0,1)).expand_dims(axis=0)\n",
    "    yhat = net(data.as_in_context(ctx[0]))\n",
    "    pred = nd.argmax(yhat, axis=1)\n",
    "    return pred.reshape((pred.shape[1], pred.shape[2]))\n",
    "\n",
    "def label2image(pred):\n",
    "    x = pred.astype('int32').asnumpy()\n",
    "    cm = nd.array(colormap).astype('uint8')\n",
    "    return nd.array(cm[x,:])"
   ]
  },
  {
   "cell_type": "code",
   "execution_count": 18,
   "metadata": {
    "collapsed": true
   },
   "outputs": [],
   "source": [
    "test_images,test_labels = read_images(0,2)"
   ]
  },
  {
   "cell_type": "code",
   "execution_count": 28,
   "metadata": {},
   "outputs": [
    {
     "data": {
      "image/png": "[encoded data removed]",
      "text/plain": [
       "<matplotlib.figure.Figure at 0x7fea3058b358>"
      ]
     },
     "metadata": {},
     "output_type": "display_data"
    }
   ],
   "source": [
    "n = 6\n",
    "imgs = []\n",
    "for i in range(n):\n",
    "    x = test_images[i]\n",
    "    result = predict(x)\n",
    "#     print(np.where(result.asnumpy()>0))\n",
    "#     print(np.where(test_labels[i].asnumpy()>0))\n",
    "    pred = label2image(predict(x))\n",
    "    imgs += [x, pred, label2image(test_labels[i])]\n",
    "\n",
    "utils.show_images(imgs, nrows=n, ncols=3, figsize=(6,10))"
   ]
  },
  {
   "cell_type": "code",
   "execution_count": null,
   "metadata": {
    "collapsed": true
   },
   "outputs": [],
   "source": []
  }
 ],
 "metadata": {
  "kernelspec": {
   "display_name": "Python 3",
   "language": "python",
   "name": "python3"
  },
  "language_info": {
   "codemirror_mode": {
    "name": "ipython",
    "version": 3
   },
   "file_extension": ".py",
   "mimetype": "text/x-python",
   "name": "python",
   "nbconvert_exporter": "python",
   "pygments_lexer": "ipython3",
   "version": "3.6.2"
  }
 },
 "nbformat": 4,
 "nbformat_minor": 2
}
