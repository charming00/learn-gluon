{
 "cells": [
  {
   "cell_type": "code",
   "execution_count": 7,
   "metadata": {
    "collapsed": true
   },
   "outputs": [],
   "source": [
    "import numpy as np\n",
    "from PIL import Image\n",
    "from PIL import ImageEnhance\n",
    "import os\n",
    "\n",
    "data_root = '../data/CephalometricLandmark'\n",
    "raw_root = data_root + '/RawImage'\n",
    "txt_root = data_root + '/AnnotationsByMD'\n",
    "cropped_root = data_root + '/CroppedImage'\n",
    "contrast_root = data_root + \"/ContrastImage\"\n",
    "contrast1_root = data_root + \"/ContrastImage1\""
   ]
  },
  {
   "cell_type": "code",
   "execution_count": 8,
   "metadata": {
    "collapsed": true
   },
   "outputs": [],
   "source": [
    "# mkdir \n",
    "dir_path = contrast1_root\n",
    "if not os.path.exists(dir_path):\n",
    "    os.mkdir(dir_path)\n",
    "    \n",
    "for i in range(19):\n",
    "    if not os.path.exists(dir_path + \"/%02d\" % (i + 1)):\n",
    "        os.mkdir(dir_path + \"/%02d\" % (i + 1))\n"
   ]
  },
  {
   "cell_type": "code",
   "execution_count": null,
   "metadata": {
    "collapsed": true
   },
   "outputs": [],
   "source": [
    "\n",
    "x = [[] for i in range(19)]\n",
    "y = [[] for i in range(19)]\n",
    "width = 640\n",
    "height = 640\n",
    "\n",
    "for i in range(1, 151):\n",
    "    txt_filename1 = txt_root + '/400_senior' + \"/%03d.txt\" % i\n",
    "    # txt_filename1 = './400_senior' + \"/%03d.txt\" % i\n",
    "\n",
    "    with open(txt_filename1, 'r') as f:\n",
    "        txts = f.read().split()\n",
    "    for j in range(19):\n",
    "        x[j].append(int(txts[j].split(',')[0]))\n",
    "        y[j].append(int(txts[j].split(',')[1]))\n",
    "for j in range(19):\n",
    "    minx = np.min(x[j])\n",
    "    miny = np.min(y[j])\n",
    "    maxx = np.max(x[j])\n",
    "    maxy = np.max(y[j])\n",
    "\n",
    "    print(maxx - minx, maxy - miny)\n",
    "\n",
    "    x0 = int(minx - (width - (maxx - minx)) / 2)\n",
    "    x1 = int(maxx + (width - (maxx - minx)) / 2)\n",
    "\n",
    "    y0 = int(miny - (height - (maxy - miny)) / 2)\n",
    "    y1 = int(maxy + (height - (maxy - miny)) / 2)\n",
    "\n",
    "    print(x0, y0)\n",
    "    print(x1, y1)\n",
    "\n",
    "    for index in range(1, 151):\n",
    "        image_path = raw_root + '/TrainingData'\n",
    "        image_filename = image_path + \"/%03d.bmp\" % index\n",
    "        im = Image.open(image_filename)\n",
    "        region = im.crop((x0, y0, x1, y1))\n",
    "        region.save(cropped_root + \"/%02d/%03d.bmp\" % (j + 1, index))\n",
    "\n",
    "    for index in range(151, 301):\n",
    "        image_path = raw_root + '/Test1Data'\n",
    "        image_filename = image_path + \"/%03d.bmp\" % index\n",
    "        im = Image.open(image_filename)\n",
    "        region = im.crop((x0, y0, x1, y1))\n",
    "        region.save(cropped_root + \"/%02d/%03d.bmp\" % (j + 1, index))\n",
    "\n",
    "    for index in range(301, 401):\n",
    "        image_path = raw_root + '/Test2Data'\n",
    "        image_filename = image_path + \"/%03d.bmp\" % index\n",
    "        im = Image.open(image_filename)\n",
    "        region = im.crop((x0, y0, x1, y1))\n",
    "        region.save(cropped_root + \"/%02d/%03d.bmp\" % (j + 1, index))\n"
   ]
  },
  {
   "cell_type": "code",
   "execution_count": 1,
   "metadata": {},
   "outputs": [
    {
     "name": "stdout",
     "output_type": "stream",
     "text": [
      "(2400, 1935, 3)\n"
     ]
    }
   ],
   "source": [
    "from mxnet import image\n",
    "image_filename = raw_root + '/TrainingData/001.bmp'\n",
    "print(image.imread(image_filename).shape)\n"
   ]
  },
  {
   "cell_type": "code",
   "execution_count": 9,
   "metadata": {},
   "outputs": [],
   "source": [
    "# 图片增强\n",
    "\n",
    "for i in range(19):\n",
    "    for j in range(0,400):\n",
    "        src_file = cropped_root +  \"/%02d/%03d.bmp\" % (i + 1, j + 1)\n",
    "        dst_file = contrast1_root + \"/%02d/%03d.bmp\" % (i + 1, j + 1)\n",
    "        image = Image.open(src_file)\n",
    "        enh_con = ImageEnhance.Contrast(image)\n",
    "        contrast = 0.5\n",
    "        image_contrasted = enh_con.enhance(contrast)\n",
    "        image_contrasted.save(dst_file)"
   ]
  },
  {
   "cell_type": "code",
   "execution_count": null,
   "metadata": {
    "collapsed": true
   },
   "outputs": [],
   "source": []
  }
 ],
 "metadata": {
  "kernelspec": {
   "display_name": "Python 3",
   "language": "python",
   "name": "python3"
  },
  "language_info": {
   "codemirror_mode": {
    "name": "ipython",
    "version": 3
   },
   "file_extension": ".py",
   "mimetype": "text/x-python",
   "name": "python",
   "nbconvert_exporter": "python",
   "pygments_lexer": "ipython3",
   "version": "3.6.2"
  }
 },
 "nbformat": 4,
 "nbformat_minor": 2
}
