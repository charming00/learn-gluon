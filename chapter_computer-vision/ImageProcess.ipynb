{
 "cells": [
  {
   "cell_type": "code",
   "execution_count": 1,
   "metadata": {
    "collapsed": true
   },
   "outputs": [],
   "source": [
    "import numpy as np\n",
    "from PIL import Image\n",
    "from PIL import ImageEnhance\n",
    "import os\n",
    "\n",
    "data_root = '../data/CephalometricLandmark'\n",
    "raw_root = data_root + '/RawImage'\n",
    "txt_root = data_root + '/AnnotationsByMD'\n",
    "cropped_root = data_root + '/CroppedImage'\n",
    "contrast_root = data_root + \"/ContrastImage\"\n",
    "contrast1_root = data_root + \"/ContrastImage1\""
   ]
  },
  {
   "cell_type": "code",
   "execution_count": 7,
   "metadata": {
    "collapsed": true
   },
   "outputs": [],
   "source": [
    "# mkdir \n",
    "dir_path = data_root + \"/ContrastImage1\"\n",
    "if not os.path.exists(dir_path):\n",
    "    os.mkdir(dir_path)\n",
    "    \n",
    "for i in range(19):\n",
    "    if not os.path.exists(dir_path + \"/%02d\" % (i + 1)):\n",
    "        os.mkdir(dir_path + \"/%02d\" % (i + 1))\n"
   ]
  },
  {
   "cell_type": "code",
   "execution_count": 3,
   "metadata": {},
   "outputs": [
    {
     "name": "stdout",
     "output_type": "stream",
     "text": [
      "238 263\n",
      "504 697\n",
      "1144 1337\n",
      "331 388\n",
      "1063 606\n",
      "1703 1246\n",
      "239 353\n",
      "948 888\n",
      "1588 1528\n",
      "185 173\n",
      "286 902\n",
      "926 1542\n",
      "316 366\n",
      "1079 1191\n",
      "1719 1831\n",
      "450 383\n",
      "1053 1507\n",
      "1693 2147\n",
      "504 437\n",
      "1048 1661\n",
      "1688 2301\n",
      "535 446\n",
      "993 1729\n",
      "1633 2369\n",
      "518 451\n",
      "1025 1706\n",
      "1665 2346\n",
      "318 448\n",
      "415 1391\n",
      "1055 2031\n",
      "372 390\n",
      "1121 1355\n",
      "1761 1995\n",
      "378 398\n",
      "1138 1388\n",
      "1778 2028\n",
      "354 444\n",
      "1245 1294\n",
      "1885 1934\n",
      "429 436\n",
      "1212 1477\n",
      "1852 2117\n",
      "342 422\n",
      "1170 1152\n",
      "1810 1792\n",
      "518 468\n",
      "1114 1756\n",
      "1754 2396\n",
      "247 263\n",
      "635 1090\n",
      "1275 1730\n",
      "293 379\n",
      "1081 1100\n",
      "1721 1740\n",
      "198 229\n",
      "350 1006\n",
      "990 1646\n"
     ]
    }
   ],
   "source": [
    "\n",
    "x = [[] for i in range(19)]\n",
    "y = [[] for i in range(19)]\n",
    "width = 640\n",
    "height = 640\n",
    "\n",
    "for i in range(1, 151):\n",
    "    txt_filename1 = txt_root + '/400_senior' + \"/%03d.txt\" % i\n",
    "    # txt_filename1 = './400_senior' + \"/%03d.txt\" % i\n",
    "\n",
    "    with open(txt_filename1, 'r') as f:\n",
    "        txts = f.read().split()\n",
    "    for j in range(19):\n",
    "        x[j].append(int(txts[j].split(',')[0]))\n",
    "        y[j].append(int(txts[j].split(',')[1]))\n",
    "for j in range(19):\n",
    "    minx = np.min(x[j])\n",
    "    miny = np.min(y[j])\n",
    "    maxx = np.max(x[j])\n",
    "    maxy = np.max(y[j])\n",
    "\n",
    "    print(maxx - minx, maxy - miny)\n",
    "\n",
    "    x0 = int(minx - (width - (maxx - minx)) / 2)\n",
    "    x1 = int(maxx + (width - (maxx - minx)) / 2)\n",
    "\n",
    "    y0 = int(miny - (height - (maxy - miny)) / 2)\n",
    "    y1 = int(maxy + (height - (maxy - miny)) / 2)\n",
    "\n",
    "    print(x0, y0)\n",
    "    print(x1, y1)\n",
    "\n",
    "    for index in range(1, 151):\n",
    "        image_path = raw_root + '/TrainingData'\n",
    "        image_filename = image_path + \"/%03d.bmp\" % index\n",
    "        im = Image.open(image_filename)\n",
    "        region = im.crop((x0, y0, x1, y1))\n",
    "        region.save(cropped_root + \"/%02d/%03d.bmp\" % (j + 1, index))\n",
    "\n",
    "    for index in range(151, 301):\n",
    "        image_path = raw_root + '/Test1Data'\n",
    "        image_filename = image_path + \"/%03d.bmp\" % index\n",
    "        im = Image.open(image_filename)\n",
    "        region = im.crop((x0, y0, x1, y1))\n",
    "        region.save(cropped_root + \"/%02d/%03d.bmp\" % (j + 1, index))\n",
    "\n",
    "    for index in range(301, 401):\n",
    "        image_path = raw_root + '/Test2Data'\n",
    "        image_filename = image_path + \"/%03d.bmp\" % index\n",
    "        im = Image.open(image_filename)\n",
    "        region = im.crop((x0, y0, x1, y1))\n",
    "        region.save(cropped_root + \"/%02d/%03d.bmp\" % (j + 1, index))\n"
   ]
  },
  {
   "cell_type": "code",
   "execution_count": 4,
   "metadata": {},
   "outputs": [
    {
     "name": "stdout",
     "output_type": "stream",
     "text": [
      "(2400, 1935, 3)\n"
     ]
    }
   ],
   "source": [
    "from mxnet import image\n",
    "image_filename = raw_root + '/TrainingData/001.bmp'\n",
    "print(image.imread(image_filename).shape)\n"
   ]
  },
  {
   "cell_type": "code",
   "execution_count": 5,
   "metadata": {},
   "outputs": [
    {
     "ename": "KeyboardInterrupt",
     "evalue": "",
     "output_type": "error",
     "traceback": [
      "\u001b[0;31m---------------------------------------------------------------------------\u001b[0m",
      "\u001b[0;31mKeyboardInterrupt\u001b[0m                         Traceback (most recent call last)",
      "\u001b[0;32m<ipython-input-5-2c2f5c804da4>\u001b[0m in \u001b[0;36m<module>\u001b[0;34m()\u001b[0m\n\u001b[1;32m      8\u001b[0m         \u001b[0menh_con\u001b[0m \u001b[0;34m=\u001b[0m \u001b[0mImageEnhance\u001b[0m\u001b[0;34m.\u001b[0m\u001b[0mContrast\u001b[0m\u001b[0;34m(\u001b[0m\u001b[0mimage\u001b[0m\u001b[0;34m)\u001b[0m\u001b[0;34m\u001b[0m\u001b[0m\n\u001b[1;32m      9\u001b[0m         \u001b[0mcontrast\u001b[0m \u001b[0;34m=\u001b[0m \u001b[0;36m0.5\u001b[0m\u001b[0;34m\u001b[0m\u001b[0m\n\u001b[0;32m---> 10\u001b[0;31m         \u001b[0mimage_contrasted\u001b[0m \u001b[0;34m=\u001b[0m \u001b[0menh_con\u001b[0m\u001b[0;34m.\u001b[0m\u001b[0menhance\u001b[0m\u001b[0;34m(\u001b[0m\u001b[0mcontrast\u001b[0m\u001b[0;34m)\u001b[0m\u001b[0;34m\u001b[0m\u001b[0m\n\u001b[0m\u001b[1;32m     11\u001b[0m         \u001b[0mimage_contrasted\u001b[0m\u001b[0;34m.\u001b[0m\u001b[0msave\u001b[0m\u001b[0;34m(\u001b[0m\u001b[0mdst_file\u001b[0m\u001b[0;34m)\u001b[0m\u001b[0;34m\u001b[0m\u001b[0m\n",
      "\u001b[0;32m~/miniconda3/envs/gluon/lib/python3.6/site-packages/PIL/ImageEnhance.py\u001b[0m in \u001b[0;36menhance\u001b[0;34m(self, factor)\u001b[0m\n\u001b[1;32m     35\u001b[0m         \u001b[0;34m:\u001b[0m\u001b[0mrtype\u001b[0m\u001b[0;34m:\u001b[0m \u001b[0;34m:\u001b[0m\u001b[0mpy\u001b[0m\u001b[0;34m:\u001b[0m\u001b[0;32mclass\u001b[0m\u001b[0;34m:\u001b[0m\u001b[0;31m`\u001b[0m\u001b[0;34m~\u001b[0m\u001b[0mPIL\u001b[0m\u001b[0;34m.\u001b[0m\u001b[0mImage\u001b[0m\u001b[0;34m.\u001b[0m\u001b[0mImage\u001b[0m\u001b[0;31m`\u001b[0m\u001b[0;34m\u001b[0m\u001b[0m\n\u001b[1;32m     36\u001b[0m         \"\"\"\n\u001b[0;32m---> 37\u001b[0;31m         \u001b[0;32mreturn\u001b[0m \u001b[0mImage\u001b[0m\u001b[0;34m.\u001b[0m\u001b[0mblend\u001b[0m\u001b[0;34m(\u001b[0m\u001b[0mself\u001b[0m\u001b[0;34m.\u001b[0m\u001b[0mdegenerate\u001b[0m\u001b[0;34m,\u001b[0m \u001b[0mself\u001b[0m\u001b[0;34m.\u001b[0m\u001b[0mimage\u001b[0m\u001b[0;34m,\u001b[0m \u001b[0mfactor\u001b[0m\u001b[0;34m)\u001b[0m\u001b[0;34m\u001b[0m\u001b[0m\n\u001b[0m\u001b[1;32m     38\u001b[0m \u001b[0;34m\u001b[0m\u001b[0m\n\u001b[1;32m     39\u001b[0m \u001b[0;34m\u001b[0m\u001b[0m\n",
      "\u001b[0;32m~/miniconda3/envs/gluon/lib/python3.6/site-packages/PIL/Image.py\u001b[0m in \u001b[0;36mblend\u001b[0;34m(im1, im2, alpha)\u001b[0m\n\u001b[1;32m   2629\u001b[0m     \u001b[0mim1\u001b[0m\u001b[0;34m.\u001b[0m\u001b[0mload\u001b[0m\u001b[0;34m(\u001b[0m\u001b[0;34m)\u001b[0m\u001b[0;34m\u001b[0m\u001b[0m\n\u001b[1;32m   2630\u001b[0m     \u001b[0mim2\u001b[0m\u001b[0;34m.\u001b[0m\u001b[0mload\u001b[0m\u001b[0;34m(\u001b[0m\u001b[0;34m)\u001b[0m\u001b[0;34m\u001b[0m\u001b[0m\n\u001b[0;32m-> 2631\u001b[0;31m     \u001b[0;32mreturn\u001b[0m \u001b[0mim1\u001b[0m\u001b[0;34m.\u001b[0m\u001b[0m_new\u001b[0m\u001b[0;34m(\u001b[0m\u001b[0mcore\u001b[0m\u001b[0;34m.\u001b[0m\u001b[0mblend\u001b[0m\u001b[0;34m(\u001b[0m\u001b[0mim1\u001b[0m\u001b[0;34m.\u001b[0m\u001b[0mim\u001b[0m\u001b[0;34m,\u001b[0m \u001b[0mim2\u001b[0m\u001b[0;34m.\u001b[0m\u001b[0mim\u001b[0m\u001b[0;34m,\u001b[0m \u001b[0malpha\u001b[0m\u001b[0;34m)\u001b[0m\u001b[0;34m)\u001b[0m\u001b[0;34m\u001b[0m\u001b[0m\n\u001b[0m\u001b[1;32m   2632\u001b[0m \u001b[0;34m\u001b[0m\u001b[0m\n\u001b[1;32m   2633\u001b[0m \u001b[0;34m\u001b[0m\u001b[0m\n",
      "\u001b[0;31mKeyboardInterrupt\u001b[0m: "
     ]
    }
   ],
   "source": [
    "# 图片增强\n",
    "\n",
    "for i in range(19):\n",
    "    for j in range(0,400):\n",
    "        src_file = cropped_root +  \"/%02d/%03d.bmp\" % (i + 1, j + 1)\n",
    "        dst_file = contrast1_root + \"/%02d/%03d.bmp\" % (i + 1, j + 1)\n",
    "        image = Image.open(src_file)\n",
    "        enh_con = ImageEnhance.Contrast(image)\n",
    "        contrast = 0.5\n",
    "        image_contrasted = enh_con.enhance(contrast)\n",
    "        image_contrasted.save(dst_file)"
   ]
  },
  {
   "cell_type": "code",
   "execution_count": 9,
   "metadata": {},
   "outputs": [],
   "source": [
    "# 图片增强\n",
    "import random\n",
    "contrast_root = data_root + \"/ContrastImage1\"\n",
    "for j in range(0,400):\n",
    "    src_file = cropped_root +  \"/03/%03d.bmp\" % (j + 1)\n",
    "    dst_file = contrast_root + \"/03/%03d.bmp\" % (j + 1)\n",
    "    image = Image.open(src_file)\n",
    "    enh_con = ImageEnhance.Contrast(image)\n",
    "    contrast = 0.5\n",
    "    image_contrasted = enh_con.enhance(random.random() + 0.5)\n",
    "    image_contrasted.save(dst_file)"
   ]
  },
  {
   "cell_type": "code",
   "execution_count": null,
   "metadata": {
    "collapsed": true
   },
   "outputs": [],
   "source": []
  }
 ],
 "metadata": {
  "kernelspec": {
   "display_name": "Python 3",
   "language": "python",
   "name": "python3"
  },
  "language_info": {
   "codemirror_mode": {
    "name": "ipython",
    "version": 3
   },
   "file_extension": ".py",
   "mimetype": "text/x-python",
   "name": "python",
   "nbconvert_exporter": "python",
   "pygments_lexer": "ipython3",
   "version": "3.6.2"
  }
 },
 "nbformat": 4,
 "nbformat_minor": 2
}
